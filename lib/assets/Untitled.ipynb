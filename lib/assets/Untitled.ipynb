{
 "cells": [
  {
   "cell_type": "code",
   "execution_count": 1,
   "id": "light-diabetes",
   "metadata": {},
   "outputs": [],
   "source": [
    "import pandas as pd"
   ]
  },
  {
   "cell_type": "code",
   "execution_count": 2,
   "id": "abroad-congress",
   "metadata": {},
   "outputs": [],
   "source": [
    "csv = pd.read_csv(\"population_by_zip_2010.csv\")"
   ]
  },
  {
   "cell_type": "code",
   "execution_count": 11,
   "id": "consistent-toolbox",
   "metadata": {},
   "outputs": [],
   "source": [
    "dataset = csv.groupby(['zipcode'])['population'].agg('sum').reset_index()"
   ]
  },
  {
   "cell_type": "code",
   "execution_count": 14,
   "id": "addressed-arthur",
   "metadata": {},
   "outputs": [],
   "source": [
    "dataset = dataset.sort_values(\"population\", ascending=False)"
   ]
  },
  {
   "cell_type": "code",
   "execution_count": 18,
   "id": "conservative-strip",
   "metadata": {},
   "outputs": [
    {
     "data": {
      "text/plain": [
       "937333281"
      ]
     },
     "execution_count": 18,
     "metadata": {},
     "output_type": "execute_result"
    }
   ],
   "source": [
    "dataset['population'].sum()"
   ]
  },
  {
   "cell_type": "code",
   "execution_count": 28,
   "id": "equipped-outreach",
   "metadata": {},
   "outputs": [
    {
     "data": {
      "text/plain": [
       "424862973"
      ]
     },
     "execution_count": 28,
     "metadata": {},
     "output_type": "execute_result"
    }
   ],
   "source": [
    "dataset.iloc[0:int(len(dataset) * 0.1)]['population'].sum()"
   ]
  },
  {
   "cell_type": "code",
   "execution_count": 29,
   "id": "comparative-world",
   "metadata": {},
   "outputs": [],
   "source": [
    "dataset = dataset.iloc[0:int(len(dataset) * 0.1)]"
   ]
  },
  {
   "cell_type": "code",
   "execution_count": 32,
   "id": "eastern-monitor",
   "metadata": {},
   "outputs": [],
   "source": [
    "dataset.to_csv('./zip_codes_to_use.csv', index=False)"
   ]
  },
  {
   "cell_type": "code",
   "execution_count": 33,
   "id": "bacterial-pantyhose",
   "metadata": {},
   "outputs": [
    {
     "data": {
      "text/plain": [
       "3311"
      ]
     },
     "execution_count": 33,
     "metadata": {},
     "output_type": "execute_result"
    }
   ],
   "source": [
    "len(dataset)"
   ]
  },
  {
   "cell_type": "code",
   "execution_count": null,
   "id": "latin-anxiety",
   "metadata": {},
   "outputs": [],
   "source": []
  }
 ],
 "metadata": {
  "kernelspec": {
   "display_name": "Python 3",
   "language": "python",
   "name": "python3"
  },
  "language_info": {
   "codemirror_mode": {
    "name": "ipython",
    "version": 3
   },
   "file_extension": ".py",
   "mimetype": "text/x-python",
   "name": "python",
   "nbconvert_exporter": "python",
   "pygments_lexer": "ipython3",
   "version": "3.8.9"
  }
 },
 "nbformat": 4,
 "nbformat_minor": 5
}
