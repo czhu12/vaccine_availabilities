{
 "cells": [
  {
   "cell_type": "code",
   "execution_count": 1,
   "id": "noted-disease",
   "metadata": {},
   "outputs": [],
   "source": [
    "import pandas as pd"
   ]
  },
  {
   "cell_type": "code",
   "execution_count": 2,
   "id": "honest-press",
   "metadata": {},
   "outputs": [],
   "source": [
    "csv = pd.read_csv(\"population_by_zip_2010.csv\")"
   ]
  },
  {
   "cell_type": "code",
   "execution_count": 11,
   "id": "coral-revision",
   "metadata": {},
   "outputs": [],
   "source": [
    "dataset = csv.groupby(['zipcode'])['population'].agg('sum').reset_index()"
   ]
  },
  {
   "cell_type": "code",
   "execution_count": 14,
   "id": "hungry-disclosure",
   "metadata": {},
   "outputs": [],
   "source": [
    "dataset = dataset.sort_values(\"population\", ascending=False)"
   ]
  },
  {
   "cell_type": "code",
   "execution_count": 18,
   "id": "collective-vampire",
   "metadata": {},
   "outputs": [
    {
     "data": {
      "text/plain": [
       "937333281"
      ]
     },
     "execution_count": 18,
     "metadata": {},
     "output_type": "execute_result"
    }
   ],
   "source": [
    "dataset['population'].sum()"
   ]
  },
  {
   "cell_type": "code",
   "execution_count": 28,
   "id": "official-hawaii",
   "metadata": {},
   "outputs": [
    {
     "data": {
      "text/plain": [
       "424862973"
      ]
     },
     "execution_count": 28,
     "metadata": {},
     "output_type": "execute_result"
    }
   ],
   "source": [
    "dataset.iloc[0:int(len(dataset) * 0.1)]['population'].sum()"
   ]
  },
  {
   "cell_type": "code",
   "execution_count": 29,
   "id": "active-broadcast",
   "metadata": {},
   "outputs": [],
   "source": [
    "dataset = dataset.iloc[0:int(len(dataset) * 0.1)]"
   ]
  },
  {
   "cell_type": "code",
   "execution_count": 30,
   "id": "frequent-webcam",
   "metadata": {},
   "outputs": [
    {
     "data": {
      "text/html": [
       "<div>\n",
       "<style scoped>\n",
       "    .dataframe tbody tr th:only-of-type {\n",
       "        vertical-align: middle;\n",
       "    }\n",
       "\n",
       "    .dataframe tbody tr th {\n",
       "        vertical-align: top;\n",
       "    }\n",
       "\n",
       "    .dataframe thead th {\n",
       "        text-align: right;\n",
       "    }\n",
       "</style>\n",
       "<table border=\"1\" class=\"dataframe\">\n",
       "  <thead>\n",
       "    <tr style=\"text-align: right;\">\n",
       "      <th></th>\n",
       "      <th>zipcode</th>\n",
       "      <th>population</th>\n",
       "    </tr>\n",
       "  </thead>\n",
       "  <tbody>\n",
       "    <tr>\n",
       "      <th>20720</th>\n",
       "      <td>60629</td>\n",
       "      <td>341748</td>\n",
       "    </tr>\n",
       "    <tr>\n",
       "      <th>27789</th>\n",
       "      <td>79936</td>\n",
       "      <td>333258</td>\n",
       "    </tr>\n",
       "    <tr>\n",
       "      <th>2876</th>\n",
       "      <td>11368</td>\n",
       "      <td>329793</td>\n",
       "    </tr>\n",
       "    <tr>\n",
       "      <th>104</th>\n",
       "      <td>926</td>\n",
       "      <td>326586</td>\n",
       "    </tr>\n",
       "    <tr>\n",
       "      <th>30141</th>\n",
       "      <td>90650</td>\n",
       "      <td>316647</td>\n",
       "    </tr>\n",
       "    <tr>\n",
       "      <th>...</th>\n",
       "      <td>...</td>\n",
       "      <td>...</td>\n",
       "    </tr>\n",
       "    <tr>\n",
       "      <th>12026</th>\n",
       "      <td>37217</td>\n",
       "      <td>88797</td>\n",
       "    </tr>\n",
       "    <tr>\n",
       "      <th>6018</th>\n",
       "      <td>19142</td>\n",
       "      <td>88785</td>\n",
       "    </tr>\n",
       "    <tr>\n",
       "      <th>7222</th>\n",
       "      <td>23513</td>\n",
       "      <td>88785</td>\n",
       "    </tr>\n",
       "    <tr>\n",
       "      <th>20579</th>\n",
       "      <td>60426</td>\n",
       "      <td>88782</td>\n",
       "    </tr>\n",
       "    <tr>\n",
       "      <th>30279</th>\n",
       "      <td>91731</td>\n",
       "      <td>88773</td>\n",
       "    </tr>\n",
       "  </tbody>\n",
       "</table>\n",
       "<p>3311 rows × 2 columns</p>\n",
       "</div>"
      ],
      "text/plain": [
       "       zipcode  population\n",
       "20720    60629      341748\n",
       "27789    79936      333258\n",
       "2876     11368      329793\n",
       "104        926      326586\n",
       "30141    90650      316647\n",
       "...        ...         ...\n",
       "12026    37217       88797\n",
       "6018     19142       88785\n",
       "7222     23513       88785\n",
       "20579    60426       88782\n",
       "30279    91731       88773\n",
       "\n",
       "[3311 rows x 2 columns]"
      ]
     },
     "execution_count": 30,
     "metadata": {},
     "output_type": "execute_result"
    }
   ],
   "source": [
    "dataset.to_csv('./zip_codes_to_use.csv')"
   ]
  },
  {
   "cell_type": "code",
   "execution_count": null,
   "id": "thick-dictionary",
   "metadata": {},
   "outputs": [],
   "source": []
  }
 ],
 "metadata": {
  "kernelspec": {
   "display_name": "Python 3",
   "language": "python",
   "name": "python3"
  },
  "language_info": {
   "codemirror_mode": {
    "name": "ipython",
    "version": 3
   },
   "file_extension": ".py",
   "mimetype": "text/x-python",
   "name": "python",
   "nbconvert_exporter": "python",
   "pygments_lexer": "ipython3",
   "version": "3.8.9"
  }
 },
 "nbformat": 4,
 "nbformat_minor": 5
}
